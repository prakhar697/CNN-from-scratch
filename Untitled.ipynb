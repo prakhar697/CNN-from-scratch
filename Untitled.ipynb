{
  "nbformat": 4,
  "nbformat_minor": 0,
  "metadata": {
    "colab": {
      "name": "Untitled",
      "provenance": [],
      "collapsed_sections": [],
      "toc_visible": true,
      "authorship_tag": "ABX9TyMa8WCAZUopzz2bWZ7uyTYc",
      "include_colab_link": true
    },
    "kernelspec": {
      "name": "python3",
      "display_name": "Python 3"
    }
  },
  "cells": [
    {
      "cell_type": "markdown",
      "metadata": {
        "id": "view-in-github",
        "colab_type": "text"
      },
      "source": [
        "<a href=\"https://colab.research.google.com/github/prakhar697/palpx1/blob/master/Untitled.ipynb\" target=\"_parent\"><img src=\"https://colab.research.google.com/assets/colab-badge.svg\" alt=\"Open In Colab\"/></a>"
      ]
    },
    {
      "cell_type": "code",
      "metadata": {
        "id": "Dql3fNU1fyhJ",
        "colab_type": "code",
        "colab": {}
      },
      "source": [
        "import numpy as np\n",
        "import cv2\n",
        "from random import shuffle\n",
        "import os\n",
        "import pandas as pd\n",
        "from tqdm import tqdm\n",
        "import matplotlib.pyplot as plt\n",
        "%matplotlib inline"
      ],
      "execution_count": 2,
      "outputs": []
    },
    {
      "cell_type": "code",
      "metadata": {
        "id": "yHjqONpef-FM",
        "colab_type": "code",
        "colab": {}
      },
      "source": [
        "class Conv_op:\n",
        "    \n",
        "    def __init__(self,num_filters,filter_size):\n",
        "        \n",
        "        self.num_filters = num_filters\n",
        "        self.filter_size = filter_size\n",
        "        self.conv_filter = np.random.randn(num_filters,filter_size,filter_size)/(filter_size*filter_size)\n",
        "        \n",
        "    def image_region(self,image):\n",
        "        \n",
        "        height,width = image.shape\n",
        "        self.image = image\n",
        "        for j in range(height - self.filter_size + 1 ):\n",
        "            for k in range(width - self.filter_size + 1 ):\n",
        "                image_patch = image[j:(j+self.filter_size),k:(k+self.filter_size)]\n",
        "                yield image_patch,j,k\n",
        "                \n",
        "    def forward_prop(self,image):\n",
        "        \n",
        "        height,width = image.shape\n",
        "        conv_out = np.zeros((height - self.filter_size + 1, width - self.filter_size + 1, self.num_filters))\n",
        "        for image_patch,i,j in self.image_region(image):\n",
        "            conv_out[i,j] = np.sum(image_patch*self.conv_filter,axis = (1,2))\n",
        "        \n",
        "        return conv_out\n",
        "    \n",
        "    def back_prop(self,dL_dout,learning_rate):\n",
        "        dL_dF_params = np.zeros(self.conv_filter.shape)\n",
        "        for image_patch,i,j in self.image_region(self.image):\n",
        "            for k in range(self.num_filters):\n",
        "                dL_dF_params[k]+=image_patch*dL_dout[i,j,k]\n",
        "        \n",
        "        self.conv_filter -= learning_rate*dL_dF_params\n",
        "        return dL_dF_params"
      ],
      "execution_count": 3,
      "outputs": []
    },
    {
      "cell_type": "code",
      "metadata": {
        "id": "5CMp0C4vgEmh",
        "colab_type": "code",
        "colab": {}
      },
      "source": [
        "class Max_Pool:\n",
        "    \n",
        "    def __init__(self,filter_size):\n",
        "        self.filter_size = filter_size\n",
        "        \n",
        "    def image_region(self,image):\n",
        "        new_height = int(image.shape[0]//self.filter_size)\n",
        "        new_width = int(image.shape[1]/self.filter_size)\n",
        "        \n",
        "        self.image = image\n",
        "   \n",
        "        for i in range(new_height):\n",
        "            for j in range(new_width):\n",
        "                image_patch = image[(i*self.filter_size):(i*self.filter_size+self.filter_size),(j*self.filter_size):(j*self.filter_size+self.filter_size)]\n",
        "                yield image_patch,i,j\n",
        "                \n",
        "    \n",
        "    def forward_prop(self,image):\n",
        "        height,width,num_filters = image.shape\n",
        "        output = np.zeros((height//self.filter_size, width//self.filter_size,num_filters))\n",
        "        \n",
        "        for image_patch,i,j in self.image_region(image):\n",
        "            output[i,j] = np.amax(image_patch,axis = (0,1))\n",
        "        return output\n",
        "    \n",
        "    def back_prop(self,dL_dout):\n",
        "        \n",
        "        dL_dmax_pool = np.zeros(self.image.shape)\n",
        "        for image_patch,i,j in self.image_region(self.image):\n",
        "            height,width,num_filters = image_patch.shape\n",
        "            maximum_val = np.amax(image_patch,axis = (0,1))\n",
        "            \n",
        "            for i1 in range(height):\n",
        "                for j1 in range(width):\n",
        "                    for k1 in range(num_filters):\n",
        "                        if image_patch[i1,j1,k1] == maximum_val[k1]:\n",
        "                            dL_dmax_pool[i*self.filter_size + i1,j*self.filter_size + j1,k1] = dL_dout[i,j,k1]\n",
        "            \n",
        "            return dL_dmax_pool\n",
        "                        "
      ],
      "execution_count": 4,
      "outputs": []
    },
    {
      "cell_type": "code",
      "metadata": {
        "id": "BfbIIKhhgLn-",
        "colab_type": "code",
        "colab": {}
      },
      "source": [
        "class Softmax:\n",
        "    def __init__(self,input_node,softmax_node):\n",
        "        self.weight = np.random.randn(input_node,softmax_node)/input_node\n",
        "        self.bias = np.zeros(softmax_node)\n",
        "        \n",
        "    def forward_prop(self,image):\n",
        "        self.orig_im_shape = image.shape\n",
        "        image_modified = image.flatten()\n",
        "        self.modified_input = image_modified\n",
        "        output_val = np.dot(image_modified, self.weight) + self.bias\n",
        "        self.out = output_val\n",
        "        exp_out = np.exp(output_val)\n",
        "        \n",
        "        return exp_out/np.sum(exp_out,axis=0)\n",
        "    \n",
        "    def back_prop(self,dL_dout,learning_rate):\n",
        "        \n",
        "        for i,grad in enumerate(dL_dout):\n",
        "            if grad == 0:\n",
        "                continue\n",
        "            \n",
        "            transformation_eq = np.exp(self.out)\n",
        "            s_total = np.sum(transformation_eq)\n",
        "\n",
        "            dy_dz = -transformation_eq[i]*transformation_eq/(s_total**2)\n",
        "            dy_dz[i] = transformation_eq[i]*(s_total - transformation_eq[i])/(s_total**2)\n",
        "            \n",
        "            dz_dw = self.modified_input\n",
        "            dz_db = 1\n",
        "            dz_d_inp = self.weight\n",
        "            \n",
        "            dL_dz = grad*dy_dz\n",
        "            \n",
        "            dL_dw = dz_dw[np.newaxis].T @ dL_dz[np.newaxis]\n",
        "            dL_db = dL_dz*dz_db\n",
        "            dL_d_inp = dz_d_inp @ dL_dz\n",
        "            \n",
        "            self.weight -= learning_rate*dL_dw\n",
        "            self.bias -= learning_rate*dL_db\n",
        "            \n",
        "            return dL_d_inp.reshape(self.orig_im_shape)"
      ],
      "execution_count": 5,
      "outputs": []
    },
    {
      "cell_type": "code",
      "metadata": {
        "id": "C_tBpsCrgQ-N",
        "colab_type": "code",
        "colab": {}
      },
      "source": [
        "def cnn_forward_prop(image,label):\n",
        "    \n",
        "    out_p = conv.forward_prop((image/255.0)-0.5)\n",
        "    out_p = pool.forward_prop(out_p)\n",
        "    out_p = softmax.forward_prop(out_p)\n",
        "    \n",
        "    cross_ent_loss = -np.log(out_p[label])\n",
        "    accuracy_eval = 1 if np.argmax(out_p) == label else 0\n",
        "    \n",
        "    return out_p,cross_ent_loss,accuracy_eval"
      ],
      "execution_count": 6,
      "outputs": []
    },
    {
      "cell_type": "code",
      "metadata": {
        "id": "5A-52CG5ggaR",
        "colab_type": "code",
        "colab": {}
      },
      "source": [
        "def training_cnn(image,label,learn_rate = 0.005):\n",
        "    out,loss,acc = cnn_forward_prop(image,label)\n",
        "    \n",
        "    gradient = np.zeros(10)\n",
        "    gradient[label] = -1/out[label]\n",
        "    \n",
        "    grad_back = softmax.back_prop(gradient,learn_rate)\n",
        "    grad_back = pool.back_prop(grad_back)\n",
        "    grad_back = conv.back_prop(grad_back,learn_rate)\n",
        "    \n",
        "    return loss, acc"
      ],
      "execution_count": 7,
      "outputs": []
    },
    {
      "cell_type": "code",
      "metadata": {
        "id": "7azBNdY-gjr4",
        "colab_type": "code",
        "colab": {}
      },
      "source": [
        "num_filters = 1\n",
        "img_size = 50\n",
        "train_path = ''\n",
        "test_path = ''\n",
        "def label_image(img):\n",
        "    word_label = img.split('.')[-3]\n",
        "    if word_label == 'cat': return 0\n",
        "    elif word_label == 'dog': return 1\n",
        "    "
      ],
      "execution_count": 8,
      "outputs": []
    },
    {
      "cell_type": "code",
      "metadata": {
        "id": "XHImvqoPgm_J",
        "colab_type": "code",
        "colab": {}
      },
      "source": [
        "def create_train_data():\n",
        "    train_images = []\n",
        "    for img in tqdm(os.listdir(train_path)):\n",
        "        label = label_image(img)\n",
        "        path = os.path.join(train_path,img)\n",
        "        img = cv2.resize(cv2.imread(path,cv2.IMREAD_GRAYSCALE),(img_size,img_size))\n",
        "        train_images.append([img,label])\n",
        "        \n",
        "    shuffle(train_images)        \n",
        "    return train_images    "
      ],
      "execution_count": null,
      "outputs": []
    },
    {
      "cell_type": "code",
      "metadata": {
        "id": "II6m23CXgtSC",
        "colab_type": "code",
        "colab": {}
      },
      "source": [
        "train = create_train_data()\n",
        "train"
      ],
      "execution_count": null,
      "outputs": []
    },
    {
      "cell_type": "code",
      "metadata": {
        "id": "D8UM18gUgvY5",
        "colab_type": "code",
        "colab": {}
      },
      "source": [
        "def create_test_data():\n",
        "    test_images = []\n",
        "    for img in tqdm(oslistdir(test_path)):\n",
        "        path1 = os.path.join(test_path,img)\n",
        "        img_num = img.split('.')[0]\n",
        "        img = cv2.resize(cv2.imread(path1,cv2.IMREAD_GRAYSCALE),(img_size,img_size))\n",
        "        test_images.append([np.array(img),img_num])\n",
        "        \n",
        "    return test_images    "
      ],
      "execution_count": null,
      "outputs": []
    },
    {
      "cell_type": "code",
      "metadata": {
        "id": "Gp4ZxmE0g4Ok",
        "colab_type": "code",
        "colab": {}
      },
      "source": [
        "train_values = train[:-2500]\n",
        "test_values = train[-2500:]"
      ],
      "execution_count": null,
      "outputs": []
    },
    {
      "cell_type": "code",
      "metadata": {
        "id": "Jk1FvHmLg927",
        "colab_type": "code",
        "colab": {}
      },
      "source": [
        "train_images = np.array([i[0] for i in train_values])\n",
        "train_labels = [i[1] for i in train_values]\n",
        "\n",
        "test_images = np.array([i[0] for i in test_values])\n",
        "test_labels = [i[1] for i in test_values]"
      ],
      "execution_count": null,
      "outputs": []
    },
    {
      "cell_type": "code",
      "metadata": {
        "id": "-nEtXjM5hK1O",
        "colab_type": "code",
        "colab": {}
      },
      "source": [
        "train_labels[25]"
      ],
      "execution_count": null,
      "outputs": []
    },
    {
      "cell_type": "code",
      "metadata": {
        "id": "zRzn_yHShKcD",
        "colab_type": "code",
        "colab": {}
      },
      "source": [
        "len(train_images)"
      ],
      "execution_count": null,
      "outputs": []
    },
    {
      "cell_type": "code",
      "metadata": {
        "id": "ANjTZmMIhJ6J",
        "colab_type": "code",
        "colab": {}
      },
      "source": [
        "for i in range(len(train_images)):\n",
        "    train_images[i].reshape(-1,50,50,1)\n"
      ],
      "execution_count": null,
      "outputs": []
    },
    {
      "cell_type": "code",
      "metadata": {
        "id": "WpAsezqZhYtL",
        "colab_type": "code",
        "colab": {}
      },
      "source": [
        "train_images.shape"
      ],
      "execution_count": null,
      "outputs": []
    },
    {
      "cell_type": "code",
      "metadata": {
        "id": "74P0GaO4hYUe",
        "colab_type": "code",
        "colab": {}
      },
      "source": [
        "conv = Conv_op(8,1)\n",
        "pool = Max_Pool(2)\n",
        "softmax = Softmax(5000,10)"
      ],
      "execution_count": null,
      "outputs": []
    },
    {
      "cell_type": "code",
      "metadata": {
        "id": "B6EndE5UhX0L",
        "colab_type": "code",
        "colab": {}
      },
      "source": [
        "for epoch in range(4):\n",
        "    \n",
        "    print('epoch %d --->'%(epoch+1))\n",
        "    #shuffle_data = np.random.permutation(len(train_images))\n",
        "    #train_images = train_images[shuffle_data]\n",
        "    #train_labels = train_labels[shuffle_data]\n",
        "    \n",
        "    loss = 0\n",
        "    num_correct = 0\n",
        "    for i,(im,label) in enumerate(zip(train_images,train_labels)):\n",
        "        if i%100 == 0:\n",
        "            print('%d steps out of 100 steps. Average loss %.3f and Percentage accuracy:%d%%'%(i+1,loss/100,num_correct))\n",
        "            loss = 0 \n",
        "            num_correct = 0\n",
        "            \n",
        "        l1,accu = training_cnn(im,label)    \n",
        "        loss += l1\n",
        "        num_correct += accu\n",
        "        \n",
        "    \n",
        "    print('testing phase')    \n",
        "    loss = 0\n",
        "    num_correct = 0\n",
        "    for im,label in zip(test_images,test_labels):\n",
        "        _, l1, accu = cnn_forward_prop(im, label)\n",
        "        loss += l1\n",
        "        num_correct += accu\n",
        "        \n",
        "    num_tests = len(test_images)    \n",
        "    print('test loss ', loss/num_tests)\n",
        "    print(\"test accuracy\", num_correct/num_tests)"
      ],
      "execution_count": null,
      "outputs": []
    },
    {
      "cell_type": "code",
      "metadata": {
        "id": "RTZggcFghJAA",
        "colab_type": "code",
        "colab": {}
      },
      "source": [
        ""
      ],
      "execution_count": null,
      "outputs": []
    }
  ]
}